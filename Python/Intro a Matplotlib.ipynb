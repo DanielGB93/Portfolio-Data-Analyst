{
 "cells": [
  {
   "cell_type": "code",
   "execution_count": 2,
   "id": "649568a3",
   "metadata": {},
   "outputs": [],
   "source": [
    "import pandas as pd\n",
    "import numpy as np\n",
    "import matplotlib.pyplot as plt\n",
    "\n",
    "df = pd.read_csv(r\"C:\\Users\\danie\\OneDrive\\Documentos\\Cursos\\python_ds_linkedin\\base_datos_2008.csv\", nrows= 100000)"
   ]
  },
  {
   "cell_type": "code",
   "execution_count": 3,
   "id": "59f12e92",
   "metadata": {},
   "outputs": [
    {
     "data": {
      "text/plain": [
       "(array([0, 1], dtype=int64), array([98858,  1142], dtype=int64))"
      ]
     },
     "execution_count": 3,
     "metadata": {},
     "output_type": "execute_result"
    }
   ],
   "source": [
    "#Crear un dataframe que identifique los vuelos cancelados de df y que retorne la cantidad de vuelos cancelados\n",
    "data= np.unique(df.Cancelled, return_counts= True)\n",
    "data"
   ]
  },
  {
   "cell_type": "code",
   "execution_count": 8,
   "id": "99fae667",
   "metadata": {},
   "outputs": [
    {
     "data": {
      "image/png": "[encoded data removed]",
      "text/plain": [
       "<Figure size 432x288 with 1 Axes>"
      ]
     },
     "metadata": {},
     "output_type": "display_data"
    }
   ],
   "source": [
    "plt.pie(x= data[1],\n",
    "       labels = data[0],\n",
    "       colors =[\"Green\", \"Blue\"],\n",
    "       shadow= True,\n",
    "       startangle =90,\n",
    "       radius = 2)\n",
    "plt.axis('equal')\n",
    "plt.show()"
   ]
  }
 ],
 "metadata": {
  "kernelspec": {
   "display_name": "Python 3",
   "language": "python",
   "name": "python3"
  },
  "language_info": {
   "codemirror_mode": {
    "name": "ipython",
    "version": 3
   },
   "file_extension": ".py",
   "mimetype": "text/x-python",
   "name": "python",
   "nbconvert_exporter": "python",
   "pygments_lexer": "ipython3",
   "version": "3.8.8"
  }
 },
 "nbformat": 4,
 "nbformat_minor": 5
}
