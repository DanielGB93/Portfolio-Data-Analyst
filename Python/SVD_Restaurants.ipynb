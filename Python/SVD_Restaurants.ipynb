{
 "cells": [
  {
   "cell_type": "markdown",
   "metadata": {
    "id": "VFj0sSM06dYa"
   },
   "source": [
    "\n",
    "# **Reducción de Dimensionalidad - Descomposición en Valores Singulares (SVD) y Sistemas de Recomendación**\n"
   ]
  },
  {
   "cell_type": "markdown",
   "metadata": {},
   "source": [
    "*Daniel Edgardo García Bonilla*"
   ]
  },
  {
   "cell_type": "markdown",
   "metadata": {},
   "source": [
    "## 💡 ¿Qué es la reducción de dimensionalidad?\n",
    "\n",
    "La **reducción de dimensionalidad** es un proceso mediante el cual transformamos un conjunto de datos que tiene **muchas variables (dimensiones)** en otro conjunto con **menos variables**, conservando la mayor cantidad posible de la información relevante.\n",
    "\n",
    "Imagina que tienes una matriz de utilidad (usuarios vs. productos) con miles de columnas (por ejemplo, películas o restaurantes). Esa matriz es:\n",
    "\n",
    "- **Muy grande**\n",
    "- **Dispersa** (la mayoría de los usuarios no califican todos los productos, así que hay muchos valores faltantes)\n",
    "\n",
    "La reducción de dimensionalidad nos ayuda a **resumir** esa información en un espacio más pequeño que capture los patrones más importantes.\n",
    "\n",
    "\n",
    "\n",
    "## 🎯 ¿Por qué se utiliza en algoritmos de recomendación?\n",
    "\n",
    "En los sistemas de recomendación, como los basados en **filtrado colaborativo**, el objetivo es encontrar relaciones ocultas entre usuarios y productos. Aquí es donde entra la reducción de dimensionalidad (por ejemplo, mediante **SVD — Descomposición en Valores Singulares**):\n",
    "\n",
    "✅ **Identifica patrones latentes:**  \n",
    "Reduce el tamaño del problema al detectar factores ocultos o *variables latentes* que explican las preferencias (por ejemplo: un usuario podría preferir restaurantes con buen servicio o películas de cierto género, aunque eso no se vea explícitamente en los datos).\n",
    "\n",
    "✅ **Mejora la eficiencia:**  \n",
    "Al trabajar con un número menor de dimensiones, los cálculos son más rápidos y el sistema es menos costoso computacionalmente.\n",
    "\n",
    "✅ **Generaliza mejor:**  \n",
    "Al eliminar ruido y redundancias, se pueden hacer recomendaciones más robustas y precisas, evitando el sobreajuste a calificaciones específicas.\n",
    "\n",
    "✅ **Maneja mejor la dispersión:**  \n",
    "En una matriz con muchos datos faltantes, la reducción de dimensionalidad permite \"rellenar\" de forma inteligente las partes que no conocemos, basándose en los patrones descubiertos.\n",
    "\n"
   ]
  },
  {
   "cell_type": "code",
   "execution_count": 1,
   "metadata": {
    "id": "exXsscs-Dh-2"
   },
   "outputs": [],
   "source": [
    "# Incluye aquí todas las librerías y paquetes que requieras.\n",
    "import numpy as np\n",
    "import pandas as pd\n",
    "\n",
    "from sklearn.decomposition import TruncatedSVD"
   ]
  },
  {
   "cell_type": "markdown",
   "metadata": {
    "id": "8LCCGOCnB20k"
   },
   "source": [
    "### 📈**Dataset Analizado.**\n",
    "Para este ejercicio exploraremos la data de calificaciones de restaurantes extraída de ICS. De ahí necesitaremos los archivos **\"rating_final.csv\" y \"geoplaces2.csv\".**\n",
    "\n",
    "https://archive.ics.uci.edu/dataset/232/restaurant+consumer+data\n",
    "\n"
   ]
  },
  {
   "cell_type": "code",
   "execution_count": 2,
   "metadata": {
    "id": "3nU2GuWYCy6C"
   },
   "outputs": [
    {
     "name": "stdout",
     "output_type": "stream",
     "text": [
      "(1161, 5) (130, 21)\n"
     ]
    }
   ],
   "source": [
    "# Descarga los archivos de la página de la UCI a partir de los cuales generaremos\n",
    "# nuestras matrices de utilidad.\n",
    "\n",
    "data1 = pd.read_csv(\"rating_final.csv\", header='infer', sep=\",\")\n",
    "data2 = pd.read_csv(\"geoplaces2.csv\", header='infer',  encoding='latin-1')\n",
    "\n",
    "print(data1.shape, data2.shape)\n"
   ]
  },
  {
   "cell_type": "markdown",
   "metadata": {
    "id": "QnVxVjpd5Ulw"
   },
   "source": [
    "\n",
    "El uso de Latin-1 resuelve conflictos cuando el formato del DataFrame no está en UTF-8 y contiene elementos que está por fuera del alfabeto inglés como ser, el Español y el Francés. Al ser nombres de diferentes tipos de restaurantes, estoy usando este argumento para poder leer de manera correcta el archivo"
   ]
  },
  {
   "cell_type": "code",
   "execution_count": 3,
   "metadata": {
    "id": "0ulkqXVGCy97"
   },
   "outputs": [
    {
     "data": {
      "text/html": [
       "<div>\n",
       "<style scoped>\n",
       "    .dataframe tbody tr th:only-of-type {\n",
       "        vertical-align: middle;\n",
       "    }\n",
       "\n",
       "    .dataframe tbody tr th {\n",
       "        vertical-align: top;\n",
       "    }\n",
       "\n",
       "    .dataframe thead th {\n",
       "        text-align: right;\n",
       "    }\n",
       "</style>\n",
       "<table border=\"1\" class=\"dataframe\">\n",
       "  <thead>\n",
       "    <tr style=\"text-align: right;\">\n",
       "      <th></th>\n",
       "      <th>userID</th>\n",
       "      <th>placeID</th>\n",
       "      <th>rating</th>\n",
       "      <th>food_rating</th>\n",
       "      <th>service_rating</th>\n",
       "    </tr>\n",
       "  </thead>\n",
       "  <tbody>\n",
       "    <tr>\n",
       "      <th>0</th>\n",
       "      <td>U1077</td>\n",
       "      <td>135085</td>\n",
       "      <td>2</td>\n",
       "      <td>2</td>\n",
       "      <td>2</td>\n",
       "    </tr>\n",
       "    <tr>\n",
       "      <th>1</th>\n",
       "      <td>U1077</td>\n",
       "      <td>135038</td>\n",
       "      <td>2</td>\n",
       "      <td>2</td>\n",
       "      <td>1</td>\n",
       "    </tr>\n",
       "    <tr>\n",
       "      <th>2</th>\n",
       "      <td>U1077</td>\n",
       "      <td>132825</td>\n",
       "      <td>2</td>\n",
       "      <td>2</td>\n",
       "      <td>2</td>\n",
       "    </tr>\n",
       "    <tr>\n",
       "      <th>3</th>\n",
       "      <td>U1077</td>\n",
       "      <td>135060</td>\n",
       "      <td>1</td>\n",
       "      <td>2</td>\n",
       "      <td>2</td>\n",
       "    </tr>\n",
       "    <tr>\n",
       "      <th>4</th>\n",
       "      <td>U1068</td>\n",
       "      <td>135104</td>\n",
       "      <td>1</td>\n",
       "      <td>1</td>\n",
       "      <td>2</td>\n",
       "    </tr>\n",
       "  </tbody>\n",
       "</table>\n",
       "</div>"
      ],
      "text/plain": [
       "  userID  placeID  rating  food_rating  service_rating\n",
       "0  U1077   135085       2            2               2\n",
       "1  U1077   135038       2            2               1\n",
       "2  U1077   132825       2            2               2\n",
       "3  U1077   135060       1            2               2\n",
       "4  U1068   135104       1            1               2"
      ]
     },
     "execution_count": 3,
     "metadata": {},
     "output_type": "execute_result"
    }
   ],
   "source": [
    "# Del primer archivo obtenemos una matriz con 3 evaluaciones de los restaurantes:\n",
    "# general, comida y servicio.\n",
    "# Las evaluaciones pueden ser 0, 1 o 2, siendo 0 la menor calificación y 2 la\n",
    "# mayor calificación:\n",
    "\n",
    "data1.head()"
   ]
  },
  {
   "cell_type": "code",
   "execution_count": 4,
   "metadata": {
    "id": "y1n23keFiUQg"
   },
   "outputs": [
    {
     "data": {
      "text/html": [
       "<div>\n",
       "<style scoped>\n",
       "    .dataframe tbody tr th:only-of-type {\n",
       "        vertical-align: middle;\n",
       "    }\n",
       "\n",
       "    .dataframe tbody tr th {\n",
       "        vertical-align: top;\n",
       "    }\n",
       "\n",
       "    .dataframe thead th {\n",
       "        text-align: right;\n",
       "    }\n",
       "</style>\n",
       "<table border=\"1\" class=\"dataframe\">\n",
       "  <thead>\n",
       "    <tr style=\"text-align: right;\">\n",
       "      <th></th>\n",
       "      <th>placeID</th>\n",
       "      <th>latitude</th>\n",
       "      <th>longitude</th>\n",
       "      <th>the_geom_meter</th>\n",
       "      <th>name</th>\n",
       "      <th>address</th>\n",
       "      <th>city</th>\n",
       "      <th>state</th>\n",
       "      <th>country</th>\n",
       "      <th>fax</th>\n",
       "      <th>...</th>\n",
       "      <th>alcohol</th>\n",
       "      <th>smoking_area</th>\n",
       "      <th>dress_code</th>\n",
       "      <th>accessibility</th>\n",
       "      <th>price</th>\n",
       "      <th>url</th>\n",
       "      <th>Rambience</th>\n",
       "      <th>franchise</th>\n",
       "      <th>area</th>\n",
       "      <th>other_services</th>\n",
       "    </tr>\n",
       "  </thead>\n",
       "  <tbody>\n",
       "    <tr>\n",
       "      <th>0</th>\n",
       "      <td>134999</td>\n",
       "      <td>18.915421</td>\n",
       "      <td>-99.184871</td>\n",
       "      <td>0101000020957F000088568DE356715AC138C0A525FC46...</td>\n",
       "      <td>Kiku Cuernavaca</td>\n",
       "      <td>Revolucion</td>\n",
       "      <td>Cuernavaca</td>\n",
       "      <td>Morelos</td>\n",
       "      <td>Mexico</td>\n",
       "      <td>?</td>\n",
       "      <td>...</td>\n",
       "      <td>No_Alcohol_Served</td>\n",
       "      <td>none</td>\n",
       "      <td>informal</td>\n",
       "      <td>no_accessibility</td>\n",
       "      <td>medium</td>\n",
       "      <td>kikucuernavaca.com.mx</td>\n",
       "      <td>familiar</td>\n",
       "      <td>f</td>\n",
       "      <td>closed</td>\n",
       "      <td>none</td>\n",
       "    </tr>\n",
       "    <tr>\n",
       "      <th>1</th>\n",
       "      <td>132825</td>\n",
       "      <td>22.147392</td>\n",
       "      <td>-100.983092</td>\n",
       "      <td>0101000020957F00001AD016568C4858C1243261274BA5...</td>\n",
       "      <td>puesto de tacos</td>\n",
       "      <td>esquina santos degollado y leon guzman</td>\n",
       "      <td>s.l.p.</td>\n",
       "      <td>s.l.p.</td>\n",
       "      <td>mexico</td>\n",
       "      <td>?</td>\n",
       "      <td>...</td>\n",
       "      <td>No_Alcohol_Served</td>\n",
       "      <td>none</td>\n",
       "      <td>informal</td>\n",
       "      <td>completely</td>\n",
       "      <td>low</td>\n",
       "      <td>?</td>\n",
       "      <td>familiar</td>\n",
       "      <td>f</td>\n",
       "      <td>open</td>\n",
       "      <td>none</td>\n",
       "    </tr>\n",
       "  </tbody>\n",
       "</table>\n",
       "<p>2 rows × 21 columns</p>\n",
       "</div>"
      ],
      "text/plain": [
       "   placeID   latitude   longitude  \\\n",
       "0   134999  18.915421  -99.184871   \n",
       "1   132825  22.147392 -100.983092   \n",
       "\n",
       "                                      the_geom_meter             name  \\\n",
       "0  0101000020957F000088568DE356715AC138C0A525FC46...  Kiku Cuernavaca   \n",
       "1  0101000020957F00001AD016568C4858C1243261274BA5...  puesto de tacos   \n",
       "\n",
       "                                  address        city    state country fax  \\\n",
       "0                              Revolucion  Cuernavaca  Morelos  Mexico   ?   \n",
       "1  esquina santos degollado y leon guzman      s.l.p.   s.l.p.  mexico   ?   \n",
       "\n",
       "   ...            alcohol smoking_area dress_code     accessibility   price  \\\n",
       "0  ...  No_Alcohol_Served         none   informal  no_accessibility  medium   \n",
       "1  ...  No_Alcohol_Served         none   informal        completely     low   \n",
       "\n",
       "                     url Rambience franchise    area other_services  \n",
       "0  kikucuernavaca.com.mx  familiar         f  closed           none  \n",
       "1                      ?  familiar         f    open           none  \n",
       "\n",
       "[2 rows x 21 columns]"
      ]
     },
     "execution_count": 4,
     "metadata": {},
     "output_type": "execute_result"
    }
   ],
   "source": [
    "# Del segundo archivo obtenemos información diversa de cada restaurante:\n",
    "data2.head(2)"
   ]
  },
  {
   "cell_type": "code",
   "execution_count": 5,
   "metadata": {
    "id": "RGgNAUyv2Vqp"
   },
   "outputs": [],
   "source": [
    "# De data1 no requeriremos \"rating\" y de data2 solo necesitamos \"placeID\" y \"name\":\n",
    "# Definimos la lista y matrices con los factores que necesitamos:\n",
    "\n",
    "lista_data1 = ['userID','placeID','food_rating','service_rating']\n",
    "lista_data2 = ['placeID','name']\n",
    "\n",
    "data1a = data1[lista_data1]\n",
    "data2a = data2[lista_data2]"
   ]
  },
  {
   "cell_type": "code",
   "execution_count": 6,
   "metadata": {
    "id": "Y3jwhxfdjMWh"
   },
   "outputs": [
    {
     "name": "stdout",
     "output_type": "stream",
     "text": [
      "(1161, 5)\n"
     ]
    },
    {
     "data": {
      "text/html": [
       "<div>\n",
       "<style scoped>\n",
       "    .dataframe tbody tr th:only-of-type {\n",
       "        vertical-align: middle;\n",
       "    }\n",
       "\n",
       "    .dataframe tbody tr th {\n",
       "        vertical-align: top;\n",
       "    }\n",
       "\n",
       "    .dataframe thead th {\n",
       "        text-align: right;\n",
       "    }\n",
       "</style>\n",
       "<table border=\"1\" class=\"dataframe\">\n",
       "  <thead>\n",
       "    <tr style=\"text-align: right;\">\n",
       "      <th></th>\n",
       "      <th>userID</th>\n",
       "      <th>placeID</th>\n",
       "      <th>food_rating</th>\n",
       "      <th>service_rating</th>\n",
       "      <th>name</th>\n",
       "    </tr>\n",
       "  </thead>\n",
       "  <tbody>\n",
       "    <tr>\n",
       "      <th>0</th>\n",
       "      <td>U1077</td>\n",
       "      <td>135085</td>\n",
       "      <td>2</td>\n",
       "      <td>2</td>\n",
       "      <td>Tortas Locas Hipocampo</td>\n",
       "    </tr>\n",
       "    <tr>\n",
       "      <th>1</th>\n",
       "      <td>U1077</td>\n",
       "      <td>135038</td>\n",
       "      <td>2</td>\n",
       "      <td>1</td>\n",
       "      <td>Restaurant la Chalita</td>\n",
       "    </tr>\n",
       "    <tr>\n",
       "      <th>2</th>\n",
       "      <td>U1077</td>\n",
       "      <td>132825</td>\n",
       "      <td>2</td>\n",
       "      <td>2</td>\n",
       "      <td>puesto de tacos</td>\n",
       "    </tr>\n",
       "    <tr>\n",
       "      <th>3</th>\n",
       "      <td>U1077</td>\n",
       "      <td>135060</td>\n",
       "      <td>2</td>\n",
       "      <td>2</td>\n",
       "      <td>Restaurante Marisco Sam</td>\n",
       "    </tr>\n",
       "    <tr>\n",
       "      <th>4</th>\n",
       "      <td>U1068</td>\n",
       "      <td>135104</td>\n",
       "      <td>1</td>\n",
       "      <td>2</td>\n",
       "      <td>vips</td>\n",
       "    </tr>\n",
       "  </tbody>\n",
       "</table>\n",
       "</div>"
      ],
      "text/plain": [
       "  userID  placeID  food_rating  service_rating                     name\n",
       "0  U1077   135085            2               2   Tortas Locas Hipocampo\n",
       "1  U1077   135038            2               1    Restaurant la Chalita\n",
       "2  U1077   132825            2               2          puesto de tacos\n",
       "3  U1077   135060            2               2  Restaurante Marisco Sam\n",
       "4  U1068   135104            1               2                     vips"
      ]
     },
     "execution_count": 6,
     "metadata": {},
     "output_type": "execute_result"
    }
   ],
   "source": [
    "# Definimos el DataFrame que conjunta la información de las dos DataFrame data1a\n",
    "# y data2a en uno solo, a través de la columna común \"placeID\" y que\n",
    "# llamaremos \"df_combinado\":\n",
    "\n",
    "\n",
    "df_combinado = pd.merge(data1a, data2a, on='placeID')\n",
    "\n",
    "# Despleguemos la dimensión y los primeros renglones de este DataFrame:\n",
    "\n",
    "print(df_combinado.shape)\n",
    "df_combinado.head()"
   ]
  },
  {
   "cell_type": "code",
   "execution_count": 7,
   "metadata": {
    "id": "p6J7eDI-oTeH"
   },
   "outputs": [
    {
     "name": "stdout",
     "output_type": "stream",
     "text": [
      "Dimensión de la matriz de Utilidad sobre la evaluación de la comida:\n",
      "(restaurantes, usuarios) = (129, 138)\n"
     ]
    },
    {
     "data": {
      "text/html": [
       "<div>\n",
       "<style scoped>\n",
       "    .dataframe tbody tr th:only-of-type {\n",
       "        vertical-align: middle;\n",
       "    }\n",
       "\n",
       "    .dataframe tbody tr th {\n",
       "        vertical-align: top;\n",
       "    }\n",
       "\n",
       "    .dataframe thead th {\n",
       "        text-align: right;\n",
       "    }\n",
       "</style>\n",
       "<table border=\"1\" class=\"dataframe\">\n",
       "  <thead>\n",
       "    <tr style=\"text-align: right;\">\n",
       "      <th>userID</th>\n",
       "      <th>U1001</th>\n",
       "      <th>U1002</th>\n",
       "      <th>U1003</th>\n",
       "      <th>U1004</th>\n",
       "      <th>U1005</th>\n",
       "      <th>U1006</th>\n",
       "      <th>U1007</th>\n",
       "      <th>U1008</th>\n",
       "      <th>U1009</th>\n",
       "      <th>U1010</th>\n",
       "      <th>...</th>\n",
       "      <th>U1129</th>\n",
       "      <th>U1130</th>\n",
       "      <th>U1131</th>\n",
       "      <th>U1132</th>\n",
       "      <th>U1133</th>\n",
       "      <th>U1134</th>\n",
       "      <th>U1135</th>\n",
       "      <th>U1136</th>\n",
       "      <th>U1137</th>\n",
       "      <th>U1138</th>\n",
       "    </tr>\n",
       "    <tr>\n",
       "      <th>name</th>\n",
       "      <th></th>\n",
       "      <th></th>\n",
       "      <th></th>\n",
       "      <th></th>\n",
       "      <th></th>\n",
       "      <th></th>\n",
       "      <th></th>\n",
       "      <th></th>\n",
       "      <th></th>\n",
       "      <th></th>\n",
       "      <th></th>\n",
       "      <th></th>\n",
       "      <th></th>\n",
       "      <th></th>\n",
       "      <th></th>\n",
       "      <th></th>\n",
       "      <th></th>\n",
       "      <th></th>\n",
       "      <th></th>\n",
       "      <th></th>\n",
       "      <th></th>\n",
       "    </tr>\n",
       "  </thead>\n",
       "  <tbody>\n",
       "    <tr>\n",
       "      <th>Abondance Restaurante Bar</th>\n",
       "      <td>0.0</td>\n",
       "      <td>0.0</td>\n",
       "      <td>0.0</td>\n",
       "      <td>0.0</td>\n",
       "      <td>0.0</td>\n",
       "      <td>0.0</td>\n",
       "      <td>0.0</td>\n",
       "      <td>1.0</td>\n",
       "      <td>0.0</td>\n",
       "      <td>0.0</td>\n",
       "      <td>...</td>\n",
       "      <td>0.0</td>\n",
       "      <td>0.0</td>\n",
       "      <td>0.0</td>\n",
       "      <td>0.0</td>\n",
       "      <td>0.0</td>\n",
       "      <td>0.0</td>\n",
       "      <td>0.0</td>\n",
       "      <td>0.0</td>\n",
       "      <td>0.0</td>\n",
       "      <td>0.0</td>\n",
       "    </tr>\n",
       "    <tr>\n",
       "      <th>Arrachela Grill</th>\n",
       "      <td>0.0</td>\n",
       "      <td>0.0</td>\n",
       "      <td>0.0</td>\n",
       "      <td>0.0</td>\n",
       "      <td>0.0</td>\n",
       "      <td>0.0</td>\n",
       "      <td>0.0</td>\n",
       "      <td>0.0</td>\n",
       "      <td>0.0</td>\n",
       "      <td>0.0</td>\n",
       "      <td>...</td>\n",
       "      <td>0.0</td>\n",
       "      <td>0.0</td>\n",
       "      <td>0.0</td>\n",
       "      <td>0.0</td>\n",
       "      <td>0.0</td>\n",
       "      <td>0.0</td>\n",
       "      <td>0.0</td>\n",
       "      <td>0.0</td>\n",
       "      <td>0.0</td>\n",
       "      <td>0.0</td>\n",
       "    </tr>\n",
       "    <tr>\n",
       "      <th>Cabana Huasteca</th>\n",
       "      <td>0.0</td>\n",
       "      <td>0.0</td>\n",
       "      <td>2.0</td>\n",
       "      <td>0.0</td>\n",
       "      <td>0.0</td>\n",
       "      <td>0.0</td>\n",
       "      <td>0.0</td>\n",
       "      <td>0.0</td>\n",
       "      <td>2.0</td>\n",
       "      <td>0.0</td>\n",
       "      <td>...</td>\n",
       "      <td>0.0</td>\n",
       "      <td>0.0</td>\n",
       "      <td>0.0</td>\n",
       "      <td>0.0</td>\n",
       "      <td>0.0</td>\n",
       "      <td>1.0</td>\n",
       "      <td>0.0</td>\n",
       "      <td>0.0</td>\n",
       "      <td>0.0</td>\n",
       "      <td>0.0</td>\n",
       "    </tr>\n",
       "    <tr>\n",
       "      <th>Cafe Chaires</th>\n",
       "      <td>0.0</td>\n",
       "      <td>0.0</td>\n",
       "      <td>0.0</td>\n",
       "      <td>0.0</td>\n",
       "      <td>0.0</td>\n",
       "      <td>0.0</td>\n",
       "      <td>1.0</td>\n",
       "      <td>0.0</td>\n",
       "      <td>0.0</td>\n",
       "      <td>0.0</td>\n",
       "      <td>...</td>\n",
       "      <td>0.0</td>\n",
       "      <td>0.0</td>\n",
       "      <td>0.0</td>\n",
       "      <td>0.0</td>\n",
       "      <td>0.0</td>\n",
       "      <td>0.0</td>\n",
       "      <td>0.0</td>\n",
       "      <td>0.0</td>\n",
       "      <td>0.0</td>\n",
       "      <td>0.0</td>\n",
       "    </tr>\n",
       "    <tr>\n",
       "      <th>Cafeteria cenidet</th>\n",
       "      <td>0.0</td>\n",
       "      <td>0.0</td>\n",
       "      <td>0.0</td>\n",
       "      <td>0.0</td>\n",
       "      <td>0.0</td>\n",
       "      <td>0.0</td>\n",
       "      <td>0.0</td>\n",
       "      <td>0.0</td>\n",
       "      <td>0.0</td>\n",
       "      <td>0.0</td>\n",
       "      <td>...</td>\n",
       "      <td>0.0</td>\n",
       "      <td>0.0</td>\n",
       "      <td>0.0</td>\n",
       "      <td>0.0</td>\n",
       "      <td>0.0</td>\n",
       "      <td>0.0</td>\n",
       "      <td>0.0</td>\n",
       "      <td>0.0</td>\n",
       "      <td>0.0</td>\n",
       "      <td>0.0</td>\n",
       "    </tr>\n",
       "  </tbody>\n",
       "</table>\n",
       "<p>5 rows × 138 columns</p>\n",
       "</div>"
      ],
      "text/plain": [
       "userID                     U1001  U1002  U1003  U1004  U1005  U1006  U1007  \\\n",
       "name                                                                         \n",
       "Abondance Restaurante Bar    0.0    0.0    0.0    0.0    0.0    0.0    0.0   \n",
       "Arrachela Grill              0.0    0.0    0.0    0.0    0.0    0.0    0.0   \n",
       "Cabana Huasteca              0.0    0.0    2.0    0.0    0.0    0.0    0.0   \n",
       "Cafe Chaires                 0.0    0.0    0.0    0.0    0.0    0.0    1.0   \n",
       "Cafeteria cenidet            0.0    0.0    0.0    0.0    0.0    0.0    0.0   \n",
       "\n",
       "userID                     U1008  U1009  U1010  ...  U1129  U1130  U1131  \\\n",
       "name                                            ...                        \n",
       "Abondance Restaurante Bar    1.0    0.0    0.0  ...    0.0    0.0    0.0   \n",
       "Arrachela Grill              0.0    0.0    0.0  ...    0.0    0.0    0.0   \n",
       "Cabana Huasteca              0.0    2.0    0.0  ...    0.0    0.0    0.0   \n",
       "Cafe Chaires                 0.0    0.0    0.0  ...    0.0    0.0    0.0   \n",
       "Cafeteria cenidet            0.0    0.0    0.0  ...    0.0    0.0    0.0   \n",
       "\n",
       "userID                     U1132  U1133  U1134  U1135  U1136  U1137  U1138  \n",
       "name                                                                        \n",
       "Abondance Restaurante Bar    0.0    0.0    0.0    0.0    0.0    0.0    0.0  \n",
       "Arrachela Grill              0.0    0.0    0.0    0.0    0.0    0.0    0.0  \n",
       "Cabana Huasteca              0.0    0.0    1.0    0.0    0.0    0.0    0.0  \n",
       "Cafe Chaires                 0.0    0.0    0.0    0.0    0.0    0.0    0.0  \n",
       "Cafeteria cenidet            0.0    0.0    0.0    0.0    0.0    0.0    0.0  \n",
       "\n",
       "[5 rows x 138 columns]"
      ]
     },
     "execution_count": 7,
     "metadata": {},
     "output_type": "execute_result"
    }
   ],
   "source": [
    "#    Definimos la matriz de utilidad cuyos renglones son los nombres de los\n",
    "#    restaurantes, las columnas los IDs de los usuarios y las entradas la\n",
    "#    evaluación de la comida (food_rating). La llamaremos \"UtMx_food\".\n",
    "\n",
    "UtMx_food = df_combinado.pivot_table(values='food_rating', columns='userID', index='name', fill_value=0)\n",
    "\n",
    "print('Dimensión de la matriz de Utilidad sobre la evaluación de la comida:')\n",
    "print('(restaurantes, usuarios) =', (UtMx_food.shape))\n",
    "UtMx_food.head()"
   ]
  },
  {
   "cell_type": "markdown",
   "metadata": {
    "id": "xGu3qv-T8XGH"
   },
   "source": [
    "**En la Factorización SVD la cantidad de valores singulares será menor o igual al menor valor de los renglones o columnas de la matriz de utilidad UtMx.**\n",
    "\n",
    "### **La factorización SVD de una matriz $A$ tiene la forma:**\n",
    "\n",
    "$A_{m\\times n} = U_{m\\times m}\\Sigma_{m\\times n}V_{n\\times n}^T$"
   ]
  },
  {
   "cell_type": "code",
   "execution_count": 8,
   "metadata": {
    "id": "jg6ofJ7kTD3d"
   },
   "outputs": [
    {
     "name": "stdout",
     "output_type": "stream",
     "text": [
      "Total de valores singulares basados en evaluación de la comida: 138\n"
     ]
    }
   ],
   "source": [
    "# a. Aplicamos la transformación SVD para obtener la matriz de las variables\n",
    "#    latentes de los restaurantes, en relación a la manera en que los usuarios \n",
    "#    evaluaron la comida. \n",
    "nc_food = 138     # número de componentes\n",
    "\n",
    "print('Total de valores singulares basados en evaluación de la comida:', nc_food)"
   ]
  },
  {
   "cell_type": "markdown",
   "metadata": {},
   "source": [
    "#### 🍜**Mejores Evaluaciones Respecto al Restaurante**\n",
    "\n",
    "A manera de ejemplo, se tomará un restaurante de referencia, para en base a este recomendar otros restaurantes a un cliente.\n"
   ]
  },
  {
   "cell_type": "code",
   "execution_count": 9,
   "metadata": {},
   "outputs": [
    {
     "name": "stdout",
     "output_type": "stream",
     "text": [
      "Valor del umbral o truncamiento al 90% de dicha variabilidad: 51\n"
     ]
    }
   ],
   "source": [
    "# b. Llevamos a cabo la factorización SVD truncada en la matriz de utilidad\n",
    "#    obtenida previamente y con respecto al número de componentes dada \n",
    "#    por la variable nc_food.\n",
    "\n",
    "SVD_food = TruncatedSVD(n_components=nc_food, random_state=1)\n",
    "SVD_food.fit(UtMx_food)\n",
    "\n",
    "\n",
    "# Con la factorización SVD truncada obtenida, determinemos la cantidad \n",
    "# de componentes que explican un 90% de la variabilidad acumulada de \n",
    "# cada componente:\n",
    "\n",
    "for j in range(nc_food):\n",
    "  if SVD_food.explained_variance_ratio_[0:j].sum() > 0.90:\n",
    "    break\n",
    "\n",
    "# Usaremos esta cantidad de componentes para las recomendaciones basadas\n",
    "# en la calificación de la comida:\n",
    "N_food = j-1\n",
    "\n",
    "\n",
    "print('Valor del umbral o truncamiento al 90% de dicha variabilidad:', N_food)"
   ]
  },
  {
   "cell_type": "code",
   "execution_count": 10,
   "metadata": {
    "id": "GSfNl3_PQE04"
   },
   "outputs": [
    {
     "name": "stdout",
     "output_type": "stream",
     "text": [
      "Total de similaridades positivas encontradas: 65\n",
      "Algunos de los resultados encontrados:\n"
     ]
    },
    {
     "data": {
      "text/plain": [
       "[(np.float64(0.041392920998984215), 'Cabana Huasteca'),\n",
       " (np.float64(0.01709006482903871), 'Cafe Chaires'),\n",
       " (np.float64(0.009526057087048694), 'Cafeteria cenidet'),\n",
       " (np.float64(0.24459809652208758), 'Cafeteria y Restaurant El Pacifico'),\n",
       " (np.float64(0.023194124763133095), 'Cenaduria El RincÃ³n de Tlaquepaque')]"
      ]
     },
     "execution_count": 10,
     "metadata": {},
     "output_type": "execute_result"
    }
   ],
   "source": [
    "# Usando la métrica de correlación de Pearson, obtenemos ahora las 10 mejores\n",
    "# recomendaciones de este modelo no supervisado con base a la información de\n",
    "# alguien que desea obtener las similitudes con el \"Restaurante Pueblo Bonito\" \n",
    "# y con la cota de truncamiento obtenido en el ejercicio anterior.\n",
    "# Para ello obtenemos las 10 mejores correlaciones positivas a continuación.\n",
    "\n",
    "# Factorización SVD:\n",
    "SVD_food = TruncatedSVD(n_components = N_food)\n",
    "resultant_matrix_food = SVD_food.fit_transform(UtMx_food)\n",
    "\n",
    "# Matriz de correlación de Pearson:\n",
    "corr_mat_food = np.corrcoef(resultant_matrix_food)\n",
    "\n",
    "# Restaurante de referencia:\n",
    "restaurante_de_referencia = \"Restaurante Pueblo Bonito\"\n",
    "nombres_rest = UtMx_food.T.columns  # nombres de restaurantes\n",
    "idx_rest = list(nombres_rest).index(restaurante_de_referencia)\n",
    "corr_rest = corr_mat_food[idx_rest] # Vector de Correlación del RinconHuasteco\n",
    "\n",
    "# Buscando las correlaciones positivas:\n",
    "idx = (corr_rest>0)\n",
    "mejores_sim_food = list()\n",
    "for i in range(len(nombres_rest[idx])):\n",
    "  mejores_sim_food.append((corr_rest[idx][i], nombres_rest[idx][i]))\n",
    "\n",
    "print('Total de similaridades positivas encontradas:', len(mejores_sim_food))\n",
    "\n",
    "print('Algunos de los resultados encontrados:')\n",
    "mejores_sim_food[0:5]"
   ]
  },
  {
   "cell_type": "code",
   "execution_count": 11,
   "metadata": {
    "id": "r_hUSvhCmoNN"
   },
   "outputs": [
    {
     "name": "stdout",
     "output_type": "stream",
     "text": [
      "Similitudes con base a la evaluación de la comida con mayores valores de correlación:\n",
      "1> (np.float64(0.7910409754989735), 'Restaurante la Estrella de Dima')\n",
      "2> (np.float64(0.704815985120805), 'pizza clasica')\n",
      "3> (np.float64(0.6647277830142064), 'Restaurante Guerra')\n",
      "4> (np.float64(0.5483206980941779), 'El Club')\n",
      "5> (np.float64(0.38674934236723996), 'Pizzeria Julios')\n",
      "6> (np.float64(0.3198002367708535), 'Hamburguesas saul')\n",
      "7> (np.float64(0.3033401789251), 'Restaurant Oriental Express')\n",
      "8> (np.float64(0.2990234595215336), 'la Cochinita Pibil Restaurante Yucateco')\n",
      "9> (np.float64(0.29125529791748006), 'Restaurante El Cielo Potosino')\n",
      "10> (np.float64(0.28792999069955805), 'La Fontana Pizza Restaurante and Cafe')\n"
     ]
    }
   ],
   "source": [
    "# Ordenar la lista de recomendaciones \"mejores_sim_food\" encontrada en el paso\n",
    "# anterior de manera descendente. Llamaremos \"mejores_sim_food_ordenadas\" a \n",
    "# dicha lista.\n",
    "\n",
    "mejores_sim_food_ordenadas = sorted(mejores_sim_food, reverse=True)\n",
    "\n",
    "\n",
    "# Desplegamos las 10 mejores similitudes encontradas de manera descendente:\n",
    "print('Similitudes con base a la evaluación de la comida con mayores valores de correlación:')\n",
    "for k in range(1,11):\n",
    "  print('%d> %s' % (k, mejores_sim_food_ordenadas[k]))"
   ]
  },
  {
   "cell_type": "markdown",
   "metadata": {
    "id": "7LMYEENSp4hm"
   },
   "source": [
    "### 👨‍🍳**Mejores evaluaciones respecto al servicio.**\n",
    "\n",
    "De manera análoga y usando ahora la evaluación de un restaurante con respecto a su servicio (service_rating), encuentraremos ahora los diez restaurantes con mayor similaridad al mismo restaurante anterior llamado \"Restaurante Pueblo Bonito\" y con respecto también a la misma métrica de similaridad de Pearson.\n",
    "\n"
   ]
  },
  {
   "cell_type": "code",
   "execution_count": 12,
   "metadata": {
    "id": "a5KhqmczKxK2"
   },
   "outputs": [
    {
     "name": "stdout",
     "output_type": "stream",
     "text": [
      "Dimensión de la matriz de Utilidad sobre la evaluación del servicio:\n",
      "(restaurantes, usuarios) = (129, 138)\n"
     ]
    },
    {
     "data": {
      "text/html": [
       "<div>\n",
       "<style scoped>\n",
       "    .dataframe tbody tr th:only-of-type {\n",
       "        vertical-align: middle;\n",
       "    }\n",
       "\n",
       "    .dataframe tbody tr th {\n",
       "        vertical-align: top;\n",
       "    }\n",
       "\n",
       "    .dataframe thead th {\n",
       "        text-align: right;\n",
       "    }\n",
       "</style>\n",
       "<table border=\"1\" class=\"dataframe\">\n",
       "  <thead>\n",
       "    <tr style=\"text-align: right;\">\n",
       "      <th>userID</th>\n",
       "      <th>U1001</th>\n",
       "      <th>U1002</th>\n",
       "      <th>U1003</th>\n",
       "      <th>U1004</th>\n",
       "      <th>U1005</th>\n",
       "      <th>U1006</th>\n",
       "      <th>U1007</th>\n",
       "      <th>U1008</th>\n",
       "      <th>U1009</th>\n",
       "      <th>U1010</th>\n",
       "      <th>...</th>\n",
       "      <th>U1129</th>\n",
       "      <th>U1130</th>\n",
       "      <th>U1131</th>\n",
       "      <th>U1132</th>\n",
       "      <th>U1133</th>\n",
       "      <th>U1134</th>\n",
       "      <th>U1135</th>\n",
       "      <th>U1136</th>\n",
       "      <th>U1137</th>\n",
       "      <th>U1138</th>\n",
       "    </tr>\n",
       "    <tr>\n",
       "      <th>name</th>\n",
       "      <th></th>\n",
       "      <th></th>\n",
       "      <th></th>\n",
       "      <th></th>\n",
       "      <th></th>\n",
       "      <th></th>\n",
       "      <th></th>\n",
       "      <th></th>\n",
       "      <th></th>\n",
       "      <th></th>\n",
       "      <th></th>\n",
       "      <th></th>\n",
       "      <th></th>\n",
       "      <th></th>\n",
       "      <th></th>\n",
       "      <th></th>\n",
       "      <th></th>\n",
       "      <th></th>\n",
       "      <th></th>\n",
       "      <th></th>\n",
       "      <th></th>\n",
       "    </tr>\n",
       "  </thead>\n",
       "  <tbody>\n",
       "    <tr>\n",
       "      <th>Abondance Restaurante Bar</th>\n",
       "      <td>0.0</td>\n",
       "      <td>0.0</td>\n",
       "      <td>0.0</td>\n",
       "      <td>0.0</td>\n",
       "      <td>0.0</td>\n",
       "      <td>0.0</td>\n",
       "      <td>0.0</td>\n",
       "      <td>1.0</td>\n",
       "      <td>0.0</td>\n",
       "      <td>0.0</td>\n",
       "      <td>...</td>\n",
       "      <td>0.0</td>\n",
       "      <td>0.0</td>\n",
       "      <td>0.0</td>\n",
       "      <td>0.0</td>\n",
       "      <td>0.0</td>\n",
       "      <td>0.0</td>\n",
       "      <td>0.0</td>\n",
       "      <td>0.0</td>\n",
       "      <td>0.0</td>\n",
       "      <td>0.0</td>\n",
       "    </tr>\n",
       "    <tr>\n",
       "      <th>Arrachela Grill</th>\n",
       "      <td>0.0</td>\n",
       "      <td>0.0</td>\n",
       "      <td>0.0</td>\n",
       "      <td>0.0</td>\n",
       "      <td>0.0</td>\n",
       "      <td>0.0</td>\n",
       "      <td>0.0</td>\n",
       "      <td>0.0</td>\n",
       "      <td>0.0</td>\n",
       "      <td>0.0</td>\n",
       "      <td>...</td>\n",
       "      <td>0.0</td>\n",
       "      <td>0.0</td>\n",
       "      <td>0.0</td>\n",
       "      <td>0.0</td>\n",
       "      <td>0.0</td>\n",
       "      <td>0.0</td>\n",
       "      <td>0.0</td>\n",
       "      <td>0.0</td>\n",
       "      <td>0.0</td>\n",
       "      <td>0.0</td>\n",
       "    </tr>\n",
       "    <tr>\n",
       "      <th>Cabana Huasteca</th>\n",
       "      <td>0.0</td>\n",
       "      <td>0.0</td>\n",
       "      <td>2.0</td>\n",
       "      <td>0.0</td>\n",
       "      <td>0.0</td>\n",
       "      <td>0.0</td>\n",
       "      <td>0.0</td>\n",
       "      <td>0.0</td>\n",
       "      <td>1.0</td>\n",
       "      <td>0.0</td>\n",
       "      <td>...</td>\n",
       "      <td>0.0</td>\n",
       "      <td>0.0</td>\n",
       "      <td>0.0</td>\n",
       "      <td>0.0</td>\n",
       "      <td>0.0</td>\n",
       "      <td>1.0</td>\n",
       "      <td>0.0</td>\n",
       "      <td>0.0</td>\n",
       "      <td>0.0</td>\n",
       "      <td>0.0</td>\n",
       "    </tr>\n",
       "    <tr>\n",
       "      <th>Cafe Chaires</th>\n",
       "      <td>0.0</td>\n",
       "      <td>0.0</td>\n",
       "      <td>0.0</td>\n",
       "      <td>0.0</td>\n",
       "      <td>0.0</td>\n",
       "      <td>1.0</td>\n",
       "      <td>1.0</td>\n",
       "      <td>0.0</td>\n",
       "      <td>0.0</td>\n",
       "      <td>0.0</td>\n",
       "      <td>...</td>\n",
       "      <td>0.0</td>\n",
       "      <td>0.0</td>\n",
       "      <td>0.0</td>\n",
       "      <td>0.0</td>\n",
       "      <td>0.0</td>\n",
       "      <td>0.0</td>\n",
       "      <td>0.0</td>\n",
       "      <td>0.0</td>\n",
       "      <td>0.0</td>\n",
       "      <td>0.0</td>\n",
       "    </tr>\n",
       "    <tr>\n",
       "      <th>Cafeteria cenidet</th>\n",
       "      <td>0.0</td>\n",
       "      <td>0.0</td>\n",
       "      <td>0.0</td>\n",
       "      <td>0.0</td>\n",
       "      <td>0.0</td>\n",
       "      <td>0.0</td>\n",
       "      <td>0.0</td>\n",
       "      <td>0.0</td>\n",
       "      <td>0.0</td>\n",
       "      <td>0.0</td>\n",
       "      <td>...</td>\n",
       "      <td>0.0</td>\n",
       "      <td>0.0</td>\n",
       "      <td>0.0</td>\n",
       "      <td>0.0</td>\n",
       "      <td>0.0</td>\n",
       "      <td>0.0</td>\n",
       "      <td>0.0</td>\n",
       "      <td>0.0</td>\n",
       "      <td>0.0</td>\n",
       "      <td>0.0</td>\n",
       "    </tr>\n",
       "  </tbody>\n",
       "</table>\n",
       "<p>5 rows × 138 columns</p>\n",
       "</div>"
      ],
      "text/plain": [
       "userID                     U1001  U1002  U1003  U1004  U1005  U1006  U1007  \\\n",
       "name                                                                         \n",
       "Abondance Restaurante Bar    0.0    0.0    0.0    0.0    0.0    0.0    0.0   \n",
       "Arrachela Grill              0.0    0.0    0.0    0.0    0.0    0.0    0.0   \n",
       "Cabana Huasteca              0.0    0.0    2.0    0.0    0.0    0.0    0.0   \n",
       "Cafe Chaires                 0.0    0.0    0.0    0.0    0.0    1.0    1.0   \n",
       "Cafeteria cenidet            0.0    0.0    0.0    0.0    0.0    0.0    0.0   \n",
       "\n",
       "userID                     U1008  U1009  U1010  ...  U1129  U1130  U1131  \\\n",
       "name                                            ...                        \n",
       "Abondance Restaurante Bar    1.0    0.0    0.0  ...    0.0    0.0    0.0   \n",
       "Arrachela Grill              0.0    0.0    0.0  ...    0.0    0.0    0.0   \n",
       "Cabana Huasteca              0.0    1.0    0.0  ...    0.0    0.0    0.0   \n",
       "Cafe Chaires                 0.0    0.0    0.0  ...    0.0    0.0    0.0   \n",
       "Cafeteria cenidet            0.0    0.0    0.0  ...    0.0    0.0    0.0   \n",
       "\n",
       "userID                     U1132  U1133  U1134  U1135  U1136  U1137  U1138  \n",
       "name                                                                        \n",
       "Abondance Restaurante Bar    0.0    0.0    0.0    0.0    0.0    0.0    0.0  \n",
       "Arrachela Grill              0.0    0.0    0.0    0.0    0.0    0.0    0.0  \n",
       "Cabana Huasteca              0.0    0.0    1.0    0.0    0.0    0.0    0.0  \n",
       "Cafe Chaires                 0.0    0.0    0.0    0.0    0.0    0.0    0.0  \n",
       "Cafeteria cenidet            0.0    0.0    0.0    0.0    0.0    0.0    0.0  \n",
       "\n",
       "[5 rows x 138 columns]"
      ]
     },
     "execution_count": 12,
     "metadata": {},
     "output_type": "execute_result"
    }
   ],
   "source": [
    "# a. Definimos la matriz de utilidad cuyos renglones sean los nombres de los\n",
    "#    restaurantes, las columnas los IDs de los usuarios y las entradas la\n",
    "#    evaluación del servicio (service_rating). La llamaremos \"UtMx_service\".\n",
    "\n",
    "\n",
    "UtMx_service = df_combinado.pivot_table(values='service_rating', columns='userID', index='name', fill_value=0)\n",
    "\n",
    "\n",
    "print('Dimensión de la matriz de Utilidad sobre la evaluación del servicio:')\n",
    "print('(restaurantes, usuarios) =', (UtMx_service.shape))\n",
    "UtMx_service.head()"
   ]
  },
  {
   "cell_type": "code",
   "execution_count": 13,
   "metadata": {
    "id": "M8AuZVGxn3fo"
   },
   "outputs": [],
   "source": [
    "nc_service = 138\n",
    "\n",
    "\n",
    "SVD_service = TruncatedSVD(n_components=nc_service, random_state=1)\n",
    "resultant_matrix_service = SVD_service.fit_transform(UtMx_service)"
   ]
  },
  {
   "cell_type": "code",
   "execution_count": 14,
   "metadata": {},
   "outputs": [
    {
     "name": "stdout",
     "output_type": "stream",
     "text": [
      "Valor del truncamiento al 90% de dicha variabilidad: 51\n"
     ]
    }
   ],
   "source": [
    "SVD_service = TruncatedSVD(n_components=nc_service, random_state=1)\n",
    "SVD_service.fit(UtMx_service)\n",
    "\n",
    "for j in range(nc_service):\n",
    "    if SVD_service.explained_variance_ratio_[0:j].sum() > 0.90:\n",
    "        break\n",
    "    \n",
    "N_service = j - 1\n",
    "print('Valor del truncamiento al 90% de dicha variabilidad:', N_service)"
   ]
  },
  {
   "cell_type": "code",
   "execution_count": 15,
   "metadata": {},
   "outputs": [
    {
     "name": "stdout",
     "output_type": "stream",
     "text": [
      "Total de similaridades positivas encontradas: 56\n"
     ]
    }
   ],
   "source": [
    "corr_mat_service = np.corrcoef(resultant_matrix_service)\n",
    "\n",
    "#vector de correlacion del restaurante en la matriz de correlacion respecto al dataset de servicio\n",
    "nombres_rest = UtMx_service.T.columns\n",
    "idx_rest = list(nombres_rest).index(restaurante_de_referencia)\n",
    "corr_rest = corr_mat_service[idx_rest] # Vector de Correlación del RinconHuasteco\n",
    "\n",
    "# Buscando las correlaciones positivas:\n",
    "idx = (corr_rest>0)\n",
    "mejores_sim_service = list()\n",
    "for i in range(len(nombres_rest[idx])):\n",
    "  mejores_sim_service.append((corr_rest[idx][i], nombres_rest[idx][i]))\n",
    "\n",
    "print('Total de similaridades positivas encontradas:', len(mejores_sim_service))\n",
    "\n"
   ]
  },
  {
   "cell_type": "code",
   "execution_count": 16,
   "metadata": {},
   "outputs": [
    {
     "name": "stdout",
     "output_type": "stream",
     "text": [
      "Similitudes con base a la evaluación de servicio con mayores valores de correlación:\n",
      "1> (np.float64(0.5751351005541153), 'pizza clasica')\n",
      "2> (np.float64(0.5201427943851279), 'El Club')\n",
      "3> (np.float64(0.4390437503854505), 'Restaurante la Estrella de Dima')\n",
      "4> (np.float64(0.40146983411969217), 'Restaurante Guerra')\n",
      "5> (np.float64(0.35779572734705417), 'Restaurant Orizatlan')\n",
      "6> (np.float64(0.3376744053004511), 'la Cochinita Pibil Restaurante Yucateco')\n",
      "7> (np.float64(0.3362598126633021), 'Restaurante El Cielo Potosino')\n",
      "8> (np.float64(0.2919651121138544), 'puesto de tacos')\n",
      "9> (np.float64(0.28170207743421766), 'Restaurant Oriental Express')\n",
      "10> (np.float64(0.2805268511299617), 'Hamburguesas saul')\n"
     ]
    }
   ],
   "source": [
    "mejores_sim_service_ordenadas = sorted(mejores_sim_service, reverse=True)\n",
    "\n",
    "# Desplegamos las 10 mejores similitudes encontradas de manera descendente:\n",
    "print('Similitudes con base a la evaluación de servicio con mayores valores de correlación:')\n",
    "for k in range(1,11):\n",
    "  print('%d> %s' % (k, mejores_sim_service_ordenadas[k]))"
   ]
  },
  {
   "cell_type": "code",
   "execution_count": 17,
   "metadata": {},
   "outputs": [
    {
     "name": "stdout",
     "output_type": "stream",
     "text": [
      "Recomendaciones basadas en la comida y el servicio:\n"
     ]
    },
    {
     "data": {
      "text/plain": [
       "['Restaurante la Estrella de Dima',\n",
       " 'pizza clasica',\n",
       " 'Restaurante Guerra',\n",
       " 'El Club',\n",
       " 'Hamburguesas saul',\n",
       " 'Restaurant Oriental Express',\n",
       " 'la Cochinita Pibil Restaurante Yucateco',\n",
       " 'Restaurante El Cielo Potosino']"
      ]
     },
     "execution_count": 17,
     "metadata": {},
     "output_type": "execute_result"
    }
   ],
   "source": [
    "#Encuentro las 10 mejores recomendaciones basadas en la comida y el servicio:\n",
    "mejores_10_comida, mejores_10_servicio = [mejores_sim_food_ordenadas[k][1] for k in range(1,11)], [mejores_sim_service_ordenadas[k][1] for k in range(1,11)]\n",
    "mejores_recomendaciones = [restaurante for restaurante in mejores_10_comida if restaurante in mejores_10_servicio]\n",
    "print('Recomendaciones basadas en la comida y el servicio:')\n",
    "mejores_recomendaciones"
   ]
  },
  {
   "cell_type": "markdown",
   "metadata": {
    "id": "vtOMmDZeBBwg"
   },
   "source": [
    "## 📌 **Conclusiones**\n",
    "1) De acuerdo con los resultados obtenidos se concluye que para una persona que haya visitado el restaurante de referencia (Restaurante Pueblo Bonito), el sistema encontró una alta probabilidad de que también a esta persona le gusten los siguientes restaurantes:\n",
    "\n",
    "    * Restaurante la Estrella de Dima\n",
    "    * pizza clasica\n",
    "    * Restaurante Guerra\n",
    "    * El Club\n",
    "    * Hamburguesas saul\n",
    "    * Restaurant Oriental Express\n",
    "    * la Cochinita Pibil Restaurante Yucateco\n",
    "    * Restaurante El Cielo Potosino\n",
    "\n",
    "2) SVD es una herramienta matemática que permite descomponer la compleja matriz de interacciones usuario-ítem en sus componentes fundamentales (preferencias de usuario, características de ítem y su importancia), permitiendo así predecir de forma muy efectiva las calificaciones faltantes y generar recomendaciones personalizadas.\n",
    "\n",
    "3) A diferencia del Análisis de Componentes Principales (PCA), las implementaciones de SVD como TruncatedSVD no requieren centrar los datos antes de la descomposición. Esta distinción es fundamental para su eficiencia en el manejo de matrices dispersas.\n",
    "PCA necesita establecer un punto de referencia (la media) para medir la varianza, lo que implica convertir los ceros —que a menudo significan \"ausencia de datos\"— en valores numéricos. Este proceso destruye la dispersión de la matriz, provocando un uso masivo de memoria y alterando el significado original de los datos.\n",
    "Al omitir el centrado, SVD opera directamente sobre la matriz original, preservando su estructura dispersa. Esto le permite procesar grandes volúmenes de datos de manera eficiente, manteniendo la integridad de la información y convirtiéndolo en la opción ideal para aplicaciones como sistemas de recomendación y análisis de texto.\n"
   ]
  }
 ],
 "metadata": {
  "colab": {
   "provenance": []
  },
  "kernelspec": {
   "display_name": "Python 3",
   "language": "python",
   "name": "python3"
  },
  "language_info": {
   "codemirror_mode": {
    "name": "ipython",
    "version": 3
   },
   "file_extension": ".py",
   "mimetype": "text/x-python",
   "name": "python",
   "nbconvert_exporter": "python",
   "pygments_lexer": "ipython3",
   "version": "3.13.3"
  }
 },
 "nbformat": 4,
 "nbformat_minor": 1
}
