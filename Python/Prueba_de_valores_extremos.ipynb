{
 "cells": [
  {
   "cell_type": "code",
   "execution_count": 2,
   "id": "4bdf9e2c",
   "metadata": {},
   "outputs": [],
   "source": [
    "import pandas as pd\n",
    "import numpy as np\n",
    "df = pd.read_csv(r\"C:\\Users\\danie\\OneDrive\\Documentos\\Cursos\\python_ds_linkedin\\base_datos_2008.csv\", nrows = 100000)"
   ]
  },
  {
   "cell_type": "markdown",
   "id": "f0e340ac",
   "metadata": {},
   "source": [
    "Identificaremos los valores extremos o outliers\n",
    "Lo haremos de dos maneras: 1) Con una sola variable y 2) Una aproximación multidimensional"
   ]
  },
  {
   "cell_type": "code",
   "execution_count": 2,
   "id": "6e6f593a",
   "metadata": {},
   "outputs": [],
   "source": [
    "#Con una sola variable\n",
    "x = df[\"ArrDelay\"].dropna() #Seleccionamos la columna de los retrasos y borramos todas las celdas vacías"
   ]
  },
  {
   "cell_type": "code",
   "execution_count": 3,
   "id": "2c7dc161",
   "metadata": {},
   "outputs": [],
   "source": [
    "Q1= np.percentile(x, 25)\n",
    "Q3= np.percentile(x, 75)\n",
    "rangointer = Q3 - Q1"
   ]
  },
  {
   "cell_type": "code",
   "execution_count": 4,
   "id": "77369acc",
   "metadata": {},
   "outputs": [],
   "source": [
    "umbralsuperior = Q3 + 1.5*rangointer\n",
    "umbralinferior = Q1 - 1.5*rangointer "
   ]
  },
  {
   "cell_type": "code",
   "execution_count": 5,
   "id": "275f3e94",
   "metadata": {
    "scrolled": true
   },
   "outputs": [
    {
     "data": {
      "text/plain": [
       "45.0"
      ]
     },
     "execution_count": 5,
     "metadata": {},
     "output_type": "execute_result"
    }
   ],
   "source": [
    "umbralsuperior"
   ]
  },
  {
   "cell_type": "code",
   "execution_count": 6,
   "id": "44dce727",
   "metadata": {},
   "outputs": [
    {
     "data": {
      "text/plain": [
       "-43.0"
      ]
     },
     "execution_count": 6,
     "metadata": {},
     "output_type": "execute_result"
    }
   ],
   "source": [
    "umbralinferior"
   ]
  },
  {
   "cell_type": "code",
   "execution_count": 7,
   "id": "dfbf5d22",
   "metadata": {
    "scrolled": true
   },
   "outputs": [
    {
     "data": {
      "text/plain": [
       "0.09062529130073702"
      ]
     },
     "execution_count": 7,
     "metadata": {},
     "output_type": "execute_result"
    }
   ],
   "source": [
    "np.mean(x> umbralsuperior) #la resupuesta es un %"
   ]
  },
  {
   "cell_type": "code",
   "execution_count": 8,
   "id": "e4ac0822",
   "metadata": {},
   "outputs": [
    {
     "data": {
      "text/plain": [
       "0.0009805939551823925"
      ]
     },
     "execution_count": 8,
     "metadata": {},
     "output_type": "execute_result"
    }
   ],
   "source": [
    "np.mean(x< umbralinferior)"
   ]
  },
  {
   "cell_type": "markdown",
   "id": "ac6efedc",
   "metadata": {},
   "source": [
    "Con esto podemos concluir que los datos no están distribuidos uniformemente.\n",
    "\n",
    "SEGUNDO MÉTODO"
   ]
  },
  {
   "cell_type": "code",
   "execution_count": 3,
   "id": "e767e35c",
   "metadata": {},
   "outputs": [],
   "source": [
    "from sklearn.covariance import EllipticEnvelope"
   ]
  },
  {
   "cell_type": "code",
   "execution_count": 4,
   "id": "c0ac0b68",
   "metadata": {},
   "outputs": [],
   "source": [
    "outliers = EllipticEnvelope(contamination = .01) #Crear un modelo con el 1% de datos que considere más alejados del centro"
   ]
  },
  {
   "cell_type": "code",
   "execution_count": 5,
   "id": "1603c6cc",
   "metadata": {},
   "outputs": [],
   "source": [
    "var_list =[\"DepDelay\", \"TaxiIn\", \"TaxiOut\",\"CarrierDelay\"]"
   ]
  },
  {
   "cell_type": "code",
   "execution_count": 6,
   "id": "f6bcabfa",
   "metadata": {},
   "outputs": [],
   "source": [
    "x = np.array(df.loc[:, var_list].dropna())"
   ]
  },
  {
   "cell_type": "code",
   "execution_count": 7,
   "id": "85648ddf",
   "metadata": {},
   "outputs": [
    {
     "data": {
      "text/plain": [
       "EllipticEnvelope(contamination=0.01)"
      ]
     },
     "execution_count": 7,
     "metadata": {},
     "output_type": "execute_result"
    }
   ],
   "source": [
    "outliers.fit(x)"
   ]
  },
  {
   "cell_type": "code",
   "execution_count": 8,
   "id": "d8e75f1c",
   "metadata": {},
   "outputs": [],
   "source": [
    "pred = outliers.predict(x)"
   ]
  },
  {
   "cell_type": "code",
   "execution_count": 9,
   "id": "9509a1fb",
   "metadata": {},
   "outputs": [
    {
     "data": {
      "text/plain": [
       "array([1, 1, 1, ..., 1, 1, 1])"
      ]
     },
     "execution_count": 9,
     "metadata": {},
     "output_type": "execute_result"
    }
   ],
   "source": [
    "pred"
   ]
  },
  {
   "cell_type": "code",
   "execution_count": 10,
   "id": "486bf9eb",
   "metadata": {},
   "outputs": [],
   "source": [
    "#Todos los outliers que sean -1 para conocer los valores extremos\n",
    "elips_outliers = np.where(pred == -1)[0]\n",
    "#Este código nos devolverá los indices que son datos extremos a los cuales les debemos poner atención"
   ]
  },
  {
   "cell_type": "code",
   "execution_count": 11,
   "id": "42da2da5",
   "metadata": {},
   "outputs": [
    {
     "data": {
      "text/plain": [
       "array([   12,    37,    70,   130,   180,   206,   235,   365,   432,\n",
       "         445,   446,   923,  1347,  1520,  1635,  1710,  2012,  2611,\n",
       "        2631,  2655,  2763,  2814,  2967,  3059,  3067,  3068,  3150,\n",
       "        3305,  3530,  3715,  3910,  3914,  4267,  4429,  4483,  4600,\n",
       "        4619,  4653,  4657,  4925,  5003,  5435,  5527,  6232,  6322,\n",
       "        6519,  6568,  6638,  6732,  6783,  7203,  7266,  7764,  7795,\n",
       "        7846,  8096,  8133,  8138,  8335,  8428,  8784,  9244,  9565,\n",
       "        9612,  9826, 10164, 10607, 10676, 10788, 10829, 10889, 10993,\n",
       "       11497, 11652, 11689, 12122, 12479, 12712, 12778, 12965, 13359,\n",
       "       13423, 13454, 13749, 13778, 14032, 14207, 14260, 14363, 14651,\n",
       "       14662, 14686, 14694, 14695, 14704, 14706, 14711, 14786, 14788,\n",
       "       14985, 15028, 15030, 15032, 15034, 15045, 15133, 15136, 15145,\n",
       "       15149, 15193, 15195, 15398, 15405, 15436, 15474, 15480, 15498,\n",
       "       15565, 16077, 16366, 16588, 16645, 16655, 16983, 17179, 17276,\n",
       "       17294, 17439, 17534, 17706, 17780, 17803, 17811, 17820, 17832,\n",
       "       17833, 17860, 17867, 17880, 17898, 17935, 17946, 17954, 17965,\n",
       "       18039, 18126, 18385, 18448, 18496, 18517, 18596, 18615, 18641,\n",
       "       18674, 18690, 18718, 18720, 18728, 18741, 18744, 18804, 18835,\n",
       "       18864, 18921, 18945, 18968, 18974, 19008, 19047, 19056, 19059,\n",
       "       19069, 19095, 19100, 19115, 19150, 19200, 19203, 19231, 19261,\n",
       "       19268, 19271, 19280, 19288, 19297, 19325, 19346, 19363, 19368,\n",
       "       19392, 19436, 19481, 19548, 19554, 19572, 19582, 19588],\n",
       "      dtype=int64)"
      ]
     },
     "execution_count": 11,
     "metadata": {},
     "output_type": "execute_result"
    }
   ],
   "source": [
    "elips_outliers"
   ]
  }
 ],
 "metadata": {
  "kernelspec": {
   "display_name": "Python 3",
   "language": "python",
   "name": "python3"
  },
  "language_info": {
   "codemirror_mode": {
    "name": "ipython",
    "version": 3
   },
   "file_extension": ".py",
   "mimetype": "text/x-python",
   "name": "python",
   "nbconvert_exporter": "python",
   "pygments_lexer": "ipython3",
   "version": "3.8.8"
  }
 },
 "nbformat": 4,
 "nbformat_minor": 5
}
